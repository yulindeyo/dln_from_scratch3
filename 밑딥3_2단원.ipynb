{
  "nbformat": 4,
  "nbformat_minor": 0,
  "metadata": {
    "colab": {
      "name": "밑딥3_2단원.ipynb",
      "provenance": [],
      "collapsed_sections": [],
      "authorship_tag": "ABX9TyNJjDIMZgr9bKmtNsVD1ayx",
      "include_colab_link": true
    },
    "kernelspec": {
      "name": "python3",
      "display_name": "Python 3"
    },
    "language_info": {
      "name": "python"
    }
  },
  "cells": [
    {
      "cell_type": "markdown",
      "metadata": {
        "id": "view-in-github",
        "colab_type": "text"
      },
      "source": [
        "<a href=\"https://colab.research.google.com/github/yulindeyo/dln_from_scratch3/blob/main/%EB%B0%91%EB%94%A53_2%EB%8B%A8%EC%9B%90.ipynb\" target=\"_parent\"><img src=\"https://colab.research.google.com/assets/colab-badge.svg\" alt=\"Open In Colab\"/></a>"
      ]
    },
    {
      "cell_type": "markdown",
      "metadata": {
        "id": "CYYa44_O7Ap6"
      },
      "source": [
        "# 2단원\n",
        "- 다중 입력과 다중 출력인 함수도 처리할 수 있도록 확장\n",
        "- 계산을 자연스러운 코드(+, * 등)로 표현할 수 있도록 수정\n",
        "- 파이썬 패키지로 병합"
      ]
    },
    {
      "cell_type": "code",
      "metadata": {
        "id": "sDBvCAnJIaeP"
      },
      "source": [
        "# Step 10 까지 최종 코드\n",
        "import numpy as np\n",
        "\n",
        "class Variable:\n",
        "    def __init__(self, data):\n",
        "        if data is not None:                            # 데이터가 None은 아닌데\n",
        "            if not isinstance(data, np.ndarray):        # ndarray도 아니면      오류 발생\n",
        "                raise TypeError(\"{}은(는) 지원하지 않습니다.\".format(type(data)))\n",
        "        \n",
        "        self.data = data\n",
        "        self.grad = None \n",
        "        self.creator = None \n",
        "\n",
        "    def set_creator(self, func):\n",
        "        self.creator = func\n",
        "    \n",
        "    def backward(self):\n",
        "        if self.grad is None:\n",
        "            self.grad = np.ones_like(self.data)\n",
        "        \n",
        "        funcs = [self.creator]\n",
        "        while funcs:\n",
        "            f = funcs.pop() \n",
        "            x, y = f.input, f.output\n",
        "            x.grad = f.backward(y.grad)\n",
        "\n",
        "            if x.creator is not None:\n",
        "                funcs.append(x.creator)\n",
        "                \n",
        "\n",
        "def as_array(x):\n",
        "    if np.isscalar(x):\n",
        "        return np.array(x)\n",
        "    return x \n",
        "\n",
        "class Function:\n",
        "    def __call__(self, input):\n",
        "        x = input.data\n",
        "        y = self.forward(x)\n",
        "        output = Variable(as_array(y))\n",
        "        output.set_creator(self)\n",
        "        self.input = input\n",
        "        self.output = output\n",
        "        return output\n",
        "\n",
        "    def forward(self, x):\n",
        "        raise NotImplementedError()\n",
        "\n",
        "    def backward(self, gy):\n",
        "        raise NotImplementedError()\n",
        "\n",
        "class Square(Function):\n",
        "    def forward(self, x):\n",
        "        y = x ** 2\n",
        "        return y\n",
        "\n",
        "    def backward(self, gy):\n",
        "        x = self.input.data\n",
        "        gx = 2 * x * gy\n",
        "        return gx\n",
        "\n",
        "\n",
        "class Exp(Function):\n",
        "    def forward(self, x):\n",
        "        y = np.exp(x)\n",
        "        return y\n",
        "\n",
        "    def backward(self, gy):\n",
        "        x = self.input.data\n",
        "        gx = np.exp(x) * gy\n",
        "        return gx\n",
        "\n",
        "\n",
        "def square(x):\n",
        "    return Square()(x)\n",
        "\n",
        "\n",
        "def exp(x):\n",
        "    return Exp()(x)"
      ],
      "execution_count": 1,
      "outputs": []
    },
    {
      "cell_type": "markdown",
      "metadata": {
        "id": "jQ-GHeznBf8H"
      },
      "source": [
        "## Step 11\n",
        "### 가변 길이 인수 (순전파 편)"
      ]
    },
    {
      "cell_type": "code",
      "metadata": {
        "id": "vkpuafoB7Bg5"
      },
      "source": [
        "def as_array(x):\n",
        "    if np.isscalar(x):\n",
        "        return np.array(x)\n",
        "    return x \n",
        "    \n",
        "# 기존 Function 클래스\n",
        "class Function:\n",
        "  def __call__(self, input):\n",
        "    x = input.data                  # 1\n",
        "    y = self.forward(x)             # 2\n",
        "    output = Variable(as_array(y))  # 3\n",
        "    output.set_creator(self)        # 4\n",
        "    self.input = input\n",
        "    self.output = output\n",
        "    return output\n",
        "\n",
        "  def forward(self, x):\n",
        "    raise NotImplementedError()\n",
        "\n",
        "  def backward(self, gy):\n",
        "    raise NotImplementedError()"
      ],
      "execution_count": 2,
      "outputs": []
    },
    {
      "cell_type": "markdown",
      "metadata": {
        "id": "dwoXgOwCDG5E"
      },
      "source": [
        "- 1. Function의 call 메서드는 Variable 이라는 '상자'에서 실제 데이터를 꺼낸다.\n",
        "- 2. forward 메서드에서 구체적인 계산\n",
        "- 3. 계산 결과를 Variable에 넣고\n",
        "- 4. 자신이 'creator'라고 원산지 표시를 한다."
      ]
    },
    {
      "cell_type": "code",
      "metadata": {
        "id": "igPdSVJdDFxj"
      },
      "source": [
        "# 가변 길이 입출력을 고려한 Function 클래스\n",
        "class Function:\n",
        "  def __call__(self, inputs):\n",
        "    xs = [input.data for input in inputs]                  # 1\n",
        "    ys = self.forward(xs)                                  # 2\n",
        "    outputs = [Variable(as_array(y)) for y in ys]          # 3\n",
        "\n",
        "    for output in outputs:                                 # 4\n",
        "      output.set_creator(self)                             # 4                             \n",
        "    \n",
        "    self.inputs = inputs\n",
        "    self.outputs = outputs\n",
        "    return outputs\n",
        "\n",
        "  def forward(self, xs):\n",
        "    raise NotImplementedError()\n",
        "\n",
        "  def backward(self, gys):\n",
        "    raise NotImplementedError()"
      ],
      "execution_count": 3,
      "outputs": []
    },
    {
      "cell_type": "code",
      "metadata": {
        "colab": {
          "base_uri": "https://localhost:8080/"
        },
        "id": "1lJByMel7Bnp",
        "outputId": "34d63f72-7bd8-4fe3-c9ad-709293439fa1"
      },
      "source": [
        "class Add(Function):\n",
        "  def forward(self, xs):\n",
        "    x0, x1 = xs\n",
        "    y = x0 + x1\n",
        "    return (y,) # Function 클래스에서 inputs에 ys가 들어가기 때문에 리스트 혹은 튜플로 리턴해야함\n",
        "  \n",
        "xs = [Variable(np.array(2)), Variable(np.array(3))]\n",
        "f = Add()\n",
        "ys = f(xs) # ys 튜플\n",
        "y = ys[0]\n",
        "print(y.data)\n",
        "\n",
        "# Add()를 사용할 때, 입력 값을 리스트로 주는 것이 번거로움\n",
        "# y = ys[0]에서 리턴 값으로 튜플을 받는 것은 번거로움 "
      ],
      "execution_count": 4,
      "outputs": [
        {
          "output_type": "stream",
          "text": [
            "5\n"
          ],
          "name": "stdout"
        }
      ]
    },
    {
      "cell_type": "markdown",
      "metadata": {
        "id": "yFWT8BVTJ-GH"
      },
      "source": [
        "## Step 12\n",
        "### 가변 길이 인수 (개선 편)\n",
        "\n",
        "- 1. Add 클래스(혹은 다른 구체적인 함수 클래스)를 '사용하는 사람'을 위한 개선\n",
        "- 2. '구현하는 사람'을 위한 개선\n"
      ]
    },
    {
      "cell_type": "markdown",
      "metadata": {
        "id": "e-VmSGGcPtzV"
      },
      "source": [
        "#### 12.1 첫 번째 개선: 함수를 사용하기 쉽게\n",
        "\n",
        "```python\n",
        "xs = [Variable(np.array(2)), \n",
        "      Variable(np.array(3))]\n",
        "f = Add()\n",
        "ys = f(xs)\n",
        "y = ys[0]\n",
        "```\n",
        "기존 위의 코드를 아래와 같이 변경\n",
        "```python\n",
        "x0 = Variable(np.array(2))\n",
        "x1 = Variable(np.array(3))\n",
        "f = Add()\n",
        "y = f(x0, x1)\n",
        "```"
      ]
    },
    {
      "cell_type": "code",
      "metadata": {
        "colab": {
          "base_uri": "https://localhost:8080/"
        },
        "id": "NM_WDpftJ9UX",
        "outputId": "db773aa2-80a5-438d-9736-97de53cdecf9"
      },
      "source": [
        "# 가변 길이 입출력을 고려한 Function 클래스\n",
        "class Function:\n",
        "  def __call__(self, *inputs): # positional argument : 다중 입력을 자동으로 tuple로 변환해줌\n",
        "    xs = [input.data for input in inputs]\n",
        "    ys = self.forward(xs)\n",
        "    outputs = [Variable(as_array(y)) for y in ys]\n",
        "\n",
        "    for output in outputs:\n",
        "      output.set_creator(self)                        \n",
        "    \n",
        "    self.inputs = inputs\n",
        "    self.outputs = outputs\n",
        "    return outputs if len(outputs)>1 else outputs[0] # 리스트의 원소가 하나 이상이면 모두 반환, 한개이면 0번째 반환\n",
        "\n",
        "  def forward(self, xs):\n",
        "    raise NotImplementedError()\n",
        "\n",
        "  def backward(self, gys):\n",
        "    raise NotImplementedError()\n",
        "\n",
        "# 기존 Add 클래스 코드\n",
        "class Add(Function):\n",
        "  def forward(self, xs):\n",
        "    x0, x1 = xs\n",
        "    y = x0 + x1\n",
        "    return (y,) # Function 클래스에서 inputs에 ys가 들어가기 때문에 리스트 혹은 튜플로 리턴해야함\n",
        "\n",
        "x0 = Variable(np.array(2))\n",
        "x1 = Variable(np.array(3))\n",
        "f = Add()\n",
        "y = f(x0, x1)\n",
        "print(y.data)"
      ],
      "execution_count": 5,
      "outputs": [
        {
          "output_type": "stream",
          "text": [
            "5\n"
          ],
          "name": "stdout"
        }
      ]
    },
    {
      "cell_type": "code",
      "metadata": {
        "colab": {
          "base_uri": "https://localhost:8080/"
        },
        "id": "IEhPFitsKPHx",
        "outputId": "894c829d-df43-4689-9a52-b10f71e6e639"
      },
      "source": [
        "# positional argument\n",
        "def a(*b):\n",
        "  print(b)\n",
        "\n",
        "a(1,2)\n",
        "a(1)"
      ],
      "execution_count": 6,
      "outputs": [
        {
          "output_type": "stream",
          "text": [
            "(1, 2)\n",
            "(1,)\n"
          ],
          "name": "stdout"
        }
      ]
    },
    {
      "cell_type": "markdown",
      "metadata": {
        "id": "UEHfgbeFSzdm"
      },
      "source": [
        "#### 두 번째 개선: 함수를 구현하기 쉽도록\n",
        "- Add 클래스를 '구현하는 사람'을 위한 개선\n",
        "\n",
        "```python\n",
        "class Add(Function):\n",
        "  def forward(self, xs):\n",
        "    x0, x1 = xs\n",
        "    y = x0 + x1\n",
        "    return(y,)\n",
        "```\n",
        "위의 코드를 아래와 같이 변경\n",
        "\n",
        "```python\n",
        "class Add(Function):\n",
        "  def forward(self, x0, x1):\n",
        "    y = x0 + x1\n",
        "    return y\n",
        "```"
      ]
    },
    {
      "cell_type": "code",
      "metadata": {
        "colab": {
          "base_uri": "https://localhost:8080/"
        },
        "id": "KG_AkD4E7BqB",
        "outputId": "d9d20928-5a91-4618-e232-63fb5d504bd5"
      },
      "source": [
        "# 두 번째 개선을 위해 Function 클래스 수정\n",
        "class Function:\n",
        "  def __call__(self, *inputs):\n",
        "    xs = [input.data for input in inputs]\n",
        "    ys = self.forward(*xs) # postion argument로 unpacking\n",
        "    if not isinstance(ys, tuple): # 리턴 타입이 튜블이 아닌 경우\n",
        "      ys = (ys,) # 튜플로 변환\n",
        "    outputs = [Variable(as_array(y)) for y in ys]\n",
        "\n",
        "    for output in outputs:\n",
        "      output.set_creator(self)                        \n",
        "    \n",
        "    self.inputs = inputs\n",
        "    self.outputs = outputs\n",
        "    return outputs if len(outputs)>1 else outputs[0]\n",
        "\n",
        "  def forward(self, xs):\n",
        "    raise NotImplementedError()\n",
        "\n",
        "  def backward(self, gys):\n",
        "    raise NotImplementedError()\n",
        "\n",
        "# 두 번째 개선의 Add 클래스 수정\n",
        "class Add(Function):\n",
        "  def forward(self, x0, x1):\n",
        "    y = x0 + x1\n",
        "    return y\n",
        "\n",
        "# Add 클래스를 함수로 사용하기 위한 코드\n",
        "def add(x0, x1):\n",
        "  return Add()(x0, x1) # Add 클래스 생성 과정이 감춰짐\n",
        "\n",
        "\n",
        "# 사용\n",
        "x0 = Variable(np.array(2))\n",
        "x1 = Variable(np.array(3))\n",
        "y = add(x0, x1)\n",
        "print(y.data)"
      ],
      "execution_count": 7,
      "outputs": [
        {
          "output_type": "stream",
          "text": [
            "5\n"
          ],
          "name": "stdout"
        }
      ]
    },
    {
      "cell_type": "markdown",
      "metadata": {
        "id": "kw0FQQiJb4pP"
      },
      "source": [
        "## Step 13\n",
        "### 가변 길이 인수 (역전파 편)\n",
        "\n",
        "- 다변수 함수(입력 변수가 여러개인 함수)에서는 편미분을 사용해서 기울기를 구함"
      ]
    },
    {
      "cell_type": "code",
      "metadata": {
        "id": "WORB_DKd7Bs0"
      },
      "source": [
        "class Add(Function):\n",
        "  def forward(self, x0, x1):\n",
        "    y = x0 + x1\n",
        "    return y\n",
        "\n",
        "  def backward(self, gy):\n",
        "    return gy, gy  # 덧셈의 역전파는 상단에서의 미분값을 그대로 흘려보내는 것. y = x0 + x1 => ∂y/∂x0 = 1, ∂y/∂x1 = 1"
      ],
      "execution_count": 8,
      "outputs": []
    },
    {
      "cell_type": "code",
      "metadata": {
        "id": "sK9sCwfr7Bvl"
      },
      "source": [
        "# 기존 Variable 클래스\n",
        "class Variable:\n",
        "    def __init__(self, data):\n",
        "        if data is not None:\n",
        "            if not isinstance(data, np.ndarray):\n",
        "                raise TypeError(\"{}은(는) 지원하지 않습니다.\".format(type(data)))\n",
        "        \n",
        "        self.data = data\n",
        "        self.grad = None \n",
        "        self.creator = None \n",
        "\n",
        "    def set_creator(self, func):\n",
        "        self.creator = func\n",
        "    \n",
        "    def backward(self):\n",
        "        if self.grad is None:\n",
        "            self.grad = np.ones_like(self.data)\n",
        "        \n",
        "        funcs = [self.creator]\n",
        "        while funcs:\n",
        "            f = funcs.pop() \n",
        "            x, y = f.input, f.output    # 1. 함수의 입출력을 얻는다\n",
        "            x.grad = f.backward(y.grad) # 2. backward 메서드를 호출한다\n",
        "\n",
        "            if x.creator is not None:\n",
        "                funcs.append(x.creator)\n",
        "\n",
        "# 기존 Variable 클래스  # 1. 에서는 입출력을 하나로 한정했다. 아래에서는, 여러 개의 입출력에 대응할 수 있도록 수정한다."
      ],
      "execution_count": 9,
      "outputs": []
    },
    {
      "cell_type": "code",
      "metadata": {
        "id": "wNV3JgGR7Byi"
      },
      "source": [
        "# 수정된 Variable 클래스\n",
        "class Variable:\n",
        "    def __init__(self, data):\n",
        "        if data is not None:\n",
        "            if not isinstance(data, np.ndarray):\n",
        "                raise TypeError(\"{}은(는) 지원하지 않습니다.\".format(type(data)))\n",
        "        \n",
        "        self.data = data\n",
        "        self.grad = None \n",
        "        self.creator = None \n",
        "\n",
        "    def set_creator(self, func):\n",
        "        self.creator = func\n",
        "    \n",
        "    def backward(self):\n",
        "        if self.grad is None:\n",
        "            self.grad = np.ones_like(self.data)\n",
        "        \n",
        "        funcs = [self.creator]\n",
        "        while funcs:\n",
        "            f = funcs.pop()\n",
        "            gys = [output.grad for output in f.outputs]  # 1 함수의 출력에서 사용되는 grad 값만 저장\n",
        "            gxs = f.backward(*gys)                       # 2 backward를 통해서 grad 값 저장\n",
        "            if not isinstance(gxs, tuple):               # 3 grad 값이 한개의 원소만 있다면, 튜플로 변환\n",
        "              gxs = (gxs,)\n",
        "            \n",
        "            for x, gx in zip(f.inputs, gxs):             # 4 함수의 인풋과 grad 값이 상응하므로, 반복문을 통해 각각의 인풋 값에 grad값 대입\n",
        "              x.grad = gx\n",
        "\n",
        "              if x.creator is not None:\n",
        "                funcs.append(x.creator)"
      ],
      "execution_count": 10,
      "outputs": []
    },
    {
      "cell_type": "markdown",
      "metadata": {
        "id": "V0271QLigjoO"
      },
      "source": [
        "- 1. 출력 변수인 outputs에 담겨 있는 미분값들을 리스트에 담음\n",
        "- 2. 함수 f의 역전파 호출 (list unpacking 사용)\n",
        "- 3. gxs가 튜플이 아니라면, 튜플로 변환\n",
        "- 4. 역전파로 전파되는 미분값을 Variable의 인스턴스 변수 grad에 저장. 여기서 f.inputs[i]의 미분 값은 gxs[i]임. 즉, 모든 Variable 인스턴스 각각에 알맞는 미분 값을 대입한 것"
      ]
    },
    {
      "cell_type": "code",
      "metadata": {
        "id": "1qrkF3CV7B1Z"
      },
      "source": [
        "class Square(Function):\n",
        "    def forward(self, x):\n",
        "        y = x ** 2\n",
        "        return y\n",
        "\n",
        "    def backward(self, gy):\n",
        "        x = self.inputs[0].data # 수정 전 : x = self.input.data \n",
        "        gx = 2 * x * gy\n",
        "        return gx"
      ],
      "execution_count": 11,
      "outputs": []
    },
    {
      "cell_type": "code",
      "metadata": {
        "colab": {
          "base_uri": "https://localhost:8080/"
        },
        "id": "95AAAte57B4h",
        "outputId": "caa3d0b9-cfb9-41e6-ec57-e00137f84dd0"
      },
      "source": [
        "# z = x**2 + y**2 에서 ∂z/∂x(x=2.0), ∂z/∂y(y=3.0)을 계산하는 코드\n",
        "x = Variable(np.array(2.0))\n",
        "y = Variable(np.array(3.0))\n",
        "\n",
        "z = add(square(x), square(y))\n",
        "z.backward()\n",
        "print(z.data) # 2**2 + 3**2\n",
        "print(x.grad) # ∂z/∂x(x=2.0)\n",
        "print(y.grad) # ∂z/∂y(y=3.0)"
      ],
      "execution_count": 12,
      "outputs": [
        {
          "output_type": "stream",
          "text": [
            "13.0\n",
            "4.0\n",
            "6.0\n"
          ],
          "name": "stdout"
        }
      ]
    },
    {
      "cell_type": "markdown",
      "metadata": {
        "id": "uPLjSWu2fChD"
      },
      "source": [
        "## Step 14\n",
        "### 동일 변수 미분 에러 수정"
      ]
    },
    {
      "cell_type": "code",
      "metadata": {
        "id": "rx9sylxF7B76",
        "colab": {
          "base_uri": "https://localhost:8080/"
        },
        "outputId": "a9549d83-2dc3-47b5-9b68-f7fce74bc10e"
      },
      "source": [
        "x = Variable(np.array(3.0))\n",
        "y = add(x, x) # 동일한 두 변수를 더함\n",
        "print('y =', y.data) # y==3+3\n",
        "\n",
        "y.backward()\n",
        "print('x.grad =', x.grad) # d(2x)/dx = 2 이지만, 잘못된 값 출력"
      ],
      "execution_count": 13,
      "outputs": [
        {
          "output_type": "stream",
          "text": [
            "y = 6.0\n",
            "x.grad = 1.0\n"
          ],
          "name": "stdout"
        }
      ]
    },
    {
      "cell_type": "code",
      "metadata": {
        "id": "uEC_VoRd7B_Z"
      },
      "source": [
        "class Variable:\n",
        "  def __init__(self, data):\n",
        "    if data is not None:\n",
        "      if not isinstance(data, np.ndarray):\n",
        "        raise TypeError(\"{}은(는) 지원하지 않습니다.\".format(type(data)))\n",
        "\n",
        "    self.data = data\n",
        "    self.grad = None \n",
        "    self.creator = None \n",
        "\n",
        "  def set_creator(self, func):\n",
        "    self.creator = func\n",
        "  \n",
        "  def backward(self):\n",
        "    if self.grad is None:\n",
        "      self.grad = np.ones_like(self.data)\n",
        "    \n",
        "    funcs = [self.creator]\n",
        "    while funcs:\n",
        "      f = funcs.pop()\n",
        "      gys = [output.grad for output in f.outputs]\n",
        "      gxs = f.backward(*gys)\n",
        "      if not isinstance(gxs, tuple):\n",
        "        gxs = (gxs,)\n",
        "      \n",
        "      for x, gx in zip(f.inputs, gxs):\n",
        "        # 수정 전: x.grad = gx  # 같은 변수를 사용하면 x.grad 값이 덮어 씌어짐.   \n",
        "        if x.grad is None: # 덮어 씌울 x.grad 가 없다면, 기존과 동일하게 계산\n",
        "          x.grad = gx\n",
        "        else: # x.grad가 있다면, 미분 값을 더함\n",
        "          x.grad = x.grad + gx # x.grad += gx # 라고 할 경우 inplace operation으로 후에 x.grad와 y.grad의 메모리 주소가 같아지는 경우가 발생함\n",
        "\n",
        "        if x.creator is not None:\n",
        "          funcs.append(x.creator)"
      ],
      "execution_count": 16,
      "outputs": []
    },
    {
      "cell_type": "code",
      "metadata": {
        "id": "5OVFNAjc7CCh",
        "colab": {
          "base_uri": "https://localhost:8080/"
        },
        "outputId": "31210576-8538-4b73-c497-77c21e416841"
      },
      "source": [
        "x = Variable(np.array(3.0))\n",
        "y = add(add(x, x), x)\n",
        "y.backward()\n",
        "print(x.grad) # x+x+x = 3x, d(3x)/dx = 3"
      ],
      "execution_count": 17,
      "outputs": [
        {
          "output_type": "stream",
          "text": [
            "3.0\n"
          ],
          "name": "stdout"
        }
      ]
    },
    {
      "cell_type": "code",
      "metadata": {
        "id": "myiDA_GI7CF6",
        "colab": {
          "base_uri": "https://localhost:8080/"
        },
        "outputId": "3a057b34-2154-4b99-a102-bf146ce991fd"
      },
      "source": [
        "# 문제점: 같은 인스턴스(여기서는 x)를 재사용하면 grad 값이 누적 더해짐\n",
        "\n",
        "# 첫 번째 계산\n",
        "x = Variable(np.array(3.0))\n",
        "y = add(x, x) # y=2x\n",
        "y.backward() \n",
        "print(x.grad) # dy/dx = d(2x)/dx = 2\n",
        "\n",
        "# 두 번째 계산(같은 x를 사용하여 다른 계산을 수행)\n",
        "y = add(add(x, x), x) # y=3x\n",
        "y.backward()\n",
        "print(x.grad) # dy/dx = d(3x)/dx = 3 인데, 5(2+3)가 나옴"
      ],
      "execution_count": 18,
      "outputs": [
        {
          "output_type": "stream",
          "text": [
            "2.0\n",
            "5.0\n"
          ],
          "name": "stdout"
        }
      ]
    },
    {
      "cell_type": "code",
      "metadata": {
        "id": "isIE_6Xe7CIx",
        "colab": {
          "base_uri": "https://localhost:8080/"
        },
        "outputId": "2dc0c51a-17be-4012-8cf3-640067bab617"
      },
      "source": [
        "# 위의 문제 해결\n",
        "class Variable:\n",
        "  def __init__(self, data):\n",
        "    if data is not None:\n",
        "      if not isinstance(data, np.ndarray):\n",
        "        raise TypeError(\"{}은(는) 지원하지 않습니다.\".format(type(data)))\n",
        "\n",
        "    self.data = data\n",
        "    self.grad = None \n",
        "    self.creator = None \n",
        "  \n",
        "  def set_creator(self, func):\n",
        "    self.creator = func\n",
        "\n",
        "  # grad 값을 초기화 해주는 함수 작성\n",
        "  def cleargrad(self):\n",
        "    self.grad = None\n",
        "\n",
        "  def backward(self):\n",
        "    if self.grad is None:\n",
        "      self.grad = np.ones_like(self.data)\n",
        "    \n",
        "    funcs = [self.creator]\n",
        "    while funcs:\n",
        "      f = funcs.pop()\n",
        "      gys = [output.grad for output in f.outputs]\n",
        "      gxs = f.backward(*gys)\n",
        "      if not isinstance(gxs, tuple):\n",
        "        gxs = (gxs,)\n",
        "      \n",
        "      for x, gx in zip(f.inputs, gxs):\n",
        "        if x.grad is None:\n",
        "          x.grad = gx\n",
        "        else: \n",
        "          x.grad = x.grad + gx \n",
        "\n",
        "        if x.creator is not None:\n",
        "          funcs.append(x.creator)\n",
        "\n",
        "# 첫 번째 계산\n",
        "x = Variable(np.array(3.0))\n",
        "y = add(x, x)\n",
        "y.backward()\n",
        "print(x.grad) # 2.0\n",
        "\n",
        "# 두 번째 계산(같은 x를 사용하여 다른 계산 수행)\n",
        "x.cleargrad() # grad 값 초기화\n",
        "y = add(add(x, x), x)\n",
        "y.backward()\n",
        "print(x.grad) # 3.0"
      ],
      "execution_count": 20,
      "outputs": [
        {
          "output_type": "stream",
          "text": [
            "2.0\n",
            "3.0\n"
          ],
          "name": "stdout"
        }
      ]
    },
    {
      "cell_type": "markdown",
      "metadata": {
        "id": "VpDsxMVy7e86"
      },
      "source": [
        "## Step 16\n",
        "### 복잡한 계산 그래프 (구현 편)"
      ]
    },
    {
      "cell_type": "code",
      "metadata": {
        "id": "V54eg2BS7CL5"
      },
      "source": [
        "# 세대 'generation'을 이용하여 우선순위 결정\n",
        "# 기존 입력 데이터가 0 세대, y쪽으로 갈수록 세대가 +1씩 됨\n",
        "# 세대가 높을 수록 먼저 처리되어야 함. 즉, 세대가 우선순위\n",
        "class Variable:\n",
        "  def __init__(self, data):\n",
        "    if data is not None:\n",
        "      if not isinstance(data, np.ndarray):\n",
        "        print(f'{type(data)}는 지원하지 않습니다.')\n",
        "    \n",
        "    self.data = data\n",
        "    self.grad = None\n",
        "    self.creator = None\n",
        "    # 세대(우선순위)를 나타내는 generation 변수 추가\n",
        "    self.generation = 0\n",
        "\n",
        "  def set_creator(self, func):\n",
        "    self.creator = func\n",
        "    # '부모 세대 + 1' 만큼의 세대를 기억.\n",
        "    self.generation = func.generation +1\n",
        "  \n",
        "  def cleargrad(self):\n",
        "    self.grad = None\n",
        "\n",
        "  def backward(self):\n",
        "    if self.grad is None:\n",
        "      self.grad = np.ones_like(self.data)\n",
        "\n",
        "    funcs = [self.creator]\n",
        "    while funcs:\n",
        "      f = funcs.pop()\n",
        "      gys = [output.grad for output in f.outputs]\n",
        "      gxs = f.backward(*gys)\n",
        "      if not isinstance(gxs, tuple):\n",
        "        gxs = (gxs,)\n",
        "\n",
        "      for x, gx in zip(f.input, gxs):\n",
        "        if x.grad is None:\n",
        "          x.grad = gx\n",
        "        else:\n",
        "          x.grad = x.grad + gx\n",
        "      \n",
        "      funcs.append(x.creator)"
      ],
      "execution_count": 21,
      "outputs": []
    },
    {
      "cell_type": "code",
      "metadata": {
        "id": "A1rtGBqX7CO7"
      },
      "source": [
        "# Function의 generation 값 결정\n",
        "class Function:\n",
        "  def __call__(self, *inputs):\n",
        "    xs = [x.data for x in inputs]\n",
        "    ys = self.forward(*xs)\n",
        "    if not isinstance(ys, tuple):\n",
        "      ys = (ys,)\n",
        "    outputs = [Variable(as_array(y)) for y in ys]\n",
        "\n",
        "    # Function의 generation은 입력 변수에서 가장 큰 generation을 선택\n",
        "    self.generation = max([x.generation for x in xs])\n",
        "    for output in outputs:\n",
        "      output.set_creator(self)\n",
        "    self.inputs = inputs\n",
        "    self.outputs = outputs\n",
        "    return outputs if len(outputs) > 1 else outputs[0]\n",
        "\n",
        "  def forward(self, xs):\n",
        "    raise NotImplementedError()\n",
        "\n",
        "  def backward(self, gys):\n",
        "    raise NotImplementedError()"
      ],
      "execution_count": 22,
      "outputs": []
    },
    {
      "cell_type": "code",
      "metadata": {
        "id": "qL9BnmwZ7CSX",
        "colab": {
          "base_uri": "https://localhost:8080/"
        },
        "outputId": "50cbda5e-71ab-4c02-a567-483325684ca0"
      },
      "source": [
        "# generation이 높은 순으로 수행하는 예시\n",
        "generations = [2, 0, 1, 4, 2]\n",
        "funcs = []\n",
        "\n",
        "# 임의로 function과 generation 생성\n",
        "for g in generations:\n",
        "  f = Function()\n",
        "  f.generation = g\n",
        "  funcs.append(f)\n",
        "\n",
        "print('생성된 함수의 generation 값 :', [f.generation for f in funcs])\n",
        "\n",
        "funcs.sort(key=lambda x:x.generation) # genetion을 key 값으로 함수 내림차순 정렬\n",
        "print('내림차순된 함수의 generation 값 :', [f.generation for f in funcs])\n",
        "\n",
        "f = funcs.pop() # 리스트(스택)에서 가장 위(큰 인덱스)의 값을 꺼냄\n",
        "print(f.generation) # 꺼낸 함수의 generation 값 출력. # generation이 가장 높은 것이 꺼내졌음을 볼 수 있음"
      ],
      "execution_count": 24,
      "outputs": [
        {
          "output_type": "stream",
          "text": [
            "생성된 함수의 generation 값 : [2, 0, 1, 4, 2]\n",
            "내림차순된 함수의 generation 값 : [0, 1, 2, 2, 4]\n",
            "4\n"
          ],
          "name": "stdout"
        }
      ]
    },
    {
      "cell_type": "code",
      "metadata": {
        "id": "4U-2vz4Z7CVa"
      },
      "source": [
        "# generation이 높은 순으로 backward 수행\n",
        "class Variable:\n",
        "  def __init__(self, data):\n",
        "    if not data is None:\n",
        "      if isinstance(data, np.ndarray):\n",
        "        print(f'{format(data)}는 지원하지 않는 형식입니다.')\n",
        "      \n",
        "    self.data = data\n",
        "    self.grad = None\n",
        "    self.creator = None\n",
        "    self.generation = 0\n",
        "\n",
        "    def set_creator(self, func):\n",
        "      self.creator = func\n",
        "      self.generation = func.generation +1\n",
        "\n",
        "    def cleargrad(self):\n",
        "      self.grad = None\n",
        "\n",
        "    def backward(self, dy):\n",
        "      if self.grad is None:\n",
        "        self.grad = np.ones_like(self.data)\n",
        "      \n",
        "      # 수정 전: funcs = [self.creator]\n",
        "      funcs = [] \n",
        "      seen_set = set() # 집합 자료형 선언, 이미 처리한 함수인지 확인하기 위함\n",
        "      # 처리하지 않은 함수만 funcs 함수에 append 함\n",
        "      def add_func(f):\n",
        "        if f not in seen_set:\n",
        "          funcs.append(f)\n",
        "          seen_set.add(f)\n",
        "      add_func(self.creator) # 부모함수 추가\n",
        "\n",
        "      while funcs:\n",
        "        f = funcs.pop()\n",
        "        gys = [output.grad for output in f.outputs]\n",
        "        gxs = f.backward(*gys)\n",
        "        if not isinstance(gxs, tuple):\n",
        "          gxs = (gxs,)\n",
        "        \n",
        "        for x, gx in zip(f.inputs, gxs):\n",
        "          if x.grad is None:\n",
        "            x.grad = gx\n",
        "          else: \n",
        "            x.grad = x.grad + gx \n",
        "\n",
        "          if x.creator is not None:\n",
        "            add_func(x.creator) # 수정 전: funcs.append(x.creator)"
      ],
      "execution_count": null,
      "outputs": []
    },
    {
      "cell_type": "code",
      "metadata": {
        "id": "A441Wmr97CYk"
      },
      "source": [
        ""
      ],
      "execution_count": null,
      "outputs": []
    },
    {
      "cell_type": "code",
      "metadata": {
        "id": "RT7bogaD7Cbs"
      },
      "source": [
        ""
      ],
      "execution_count": null,
      "outputs": []
    },
    {
      "cell_type": "code",
      "metadata": {
        "id": "Ff7nwIcl7Ce0"
      },
      "source": [
        ""
      ],
      "execution_count": null,
      "outputs": []
    },
    {
      "cell_type": "code",
      "metadata": {
        "id": "PBg5mw7o7Ch9"
      },
      "source": [
        ""
      ],
      "execution_count": null,
      "outputs": []
    },
    {
      "cell_type": "code",
      "metadata": {
        "id": "GghEJaHG7Ck0"
      },
      "source": [
        ""
      ],
      "execution_count": null,
      "outputs": []
    },
    {
      "cell_type": "code",
      "metadata": {
        "id": "FDXX5Wzl7CnK"
      },
      "source": [
        ""
      ],
      "execution_count": null,
      "outputs": []
    }
  ]
}